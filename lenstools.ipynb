{
 "cells": [
  {
   "cell_type": "code",
   "execution_count": null,
   "metadata": {},
   "outputs": [],
   "source": []
  },
  {
   "cell_type": "code",
   "execution_count": 1,
   "metadata": {},
   "outputs": [],
   "source": [
    "import nbodykit as nkit\n",
    "import numpy as npy\n",
    "from nbodykit.source.catalog import CSVCatalog\n",
    "from nbodykit.source.catalog import ArrayCatalog\n",
    "from matplotlib import pyplot\n",
    "import healpy as hp\n",
    "import pmesh\n",
    "import time\n",
    "import sys;\n",
    "import scipy\n",
    "from importlib import reload \n",
    "import scipy as scpy\n",
    "sys.path.append(\"/home/chris/Dropbox/Document/Metric reconstruction/\")\n",
    "#sys.path.append(\"/home/chris/Documents/l-picola/LensTools/lenstools/\")\n",
    "import pyshtools as pysh"
   ]
  },
  {
   "cell_type": "code",
   "execution_count": 2,
   "metadata": {},
   "outputs": [],
   "source": [
    "import lcmetric\n",
    "import lcmetric.lightcone\n",
    "import lcmetric.utils as ut\n",
    "import lcmetric.cgeodesic as geo"
   ]
  },
  {
   "cell_type": "code",
   "execution_count": 3,
   "metadata": {},
   "outputs": [],
   "source": [
    "import lenstools"
   ]
  },
  {
   "cell_type": "code",
   "execution_count": 7,
   "metadata": {},
   "outputs": [],
   "source": [
    "from astropy.io import fits\n",
    "data_p = '/home/chris/Documents/l-picola/LensTools/Test/Data/'"
   ]
  },
  {
   "cell_type": "code",
   "execution_count": 8,
   "metadata": {
    "collapsed": true,
    "jupyter": {
     "outputs_hidden": true
    }
   },
   "outputs": [
    {
     "data": {
      "text/plain": [
       "array([[-3.56346264e-07, -3.59245476e-07, -3.62165884e-07, ...,\n",
       "        -3.48177196e-07, -3.50769743e-07, -3.53506771e-07],\n",
       "       [-3.42159057e-07, -3.44787452e-07, -3.47476957e-07, ...,\n",
       "        -3.34810430e-07, -3.37155634e-07, -3.39610440e-07],\n",
       "       [-3.27988610e-07, -3.30394582e-07, -3.32893028e-07, ...,\n",
       "        -3.21333608e-07, -3.23464328e-07, -3.25680785e-07],\n",
       "       ...,\n",
       "       [-3.98910460e-07, -4.02711003e-07, -4.06429846e-07, ...,\n",
       "        -3.88104107e-07, -3.91490540e-07, -3.95129230e-07],\n",
       "       [-3.84731921e-07, -3.88232913e-07, -3.91678416e-07, ...,\n",
       "        -3.74783372e-07, -3.77910610e-07, -3.81257474e-07],\n",
       "       [-3.70541376e-07, -3.73738210e-07, -3.76915032e-07, ...,\n",
       "        -3.61485005e-07, -3.64343647e-07, -3.67385363e-07]])"
      ]
     },
     "execution_count": 8,
     "metadata": {},
     "output_type": "execute_result"
    }
   ],
   "source": [
    "fits.getdata(data_p+'lensing/planes/snap11_potentialPlane0_normal0.fits')"
   ]
  },
  {
   "cell_type": "code",
   "execution_count": 44,
   "metadata": {
    "collapsed": true,
    "jupyter": {
     "outputs_hidden": true
    }
   },
   "outputs": [
    {
     "data": {
      "text/plain": [
       "SIMPLE  =                    T / conforms to FITS standard                      \n",
       "BITPIX  =                  -64 / array data type                                \n",
       "NAXIS   =                    2 / number of array dimensions                     \n",
       "NAXIS1  =                  512                                                  \n",
       "NAXIS2  =                  512                                                  \n",
       "EXTEND  =                    T                                                  \n",
       "H0      =                 70.0 / Hubble constant in km/s*Mpc                    \n",
       "H       =                  0.7 / Dimensionless Hubble constant                  \n",
       "OMEGA_M =                 0.26 / Dark Matter density                            \n",
       "OMEGA_L =                 0.74 / Dark Energy density                            \n",
       "W0      =                 -1.0 / Dark Energy equation of state                  \n",
       "WA      =                  0.0 / Dark Energy running equation of state          \n",
       "Z       =    2.038226374816849 / Redshift of the lens plane                     \n",
       "CHI     =    3799.424143856433 / Comoving distance in Mpc/h                     \n",
       "ANGLE   =                  3.5 / Side angle in degrees                          \n",
       "NPART   =           42048768.0 / Number of particles on the plane               "
      ]
     },
     "execution_count": 44,
     "metadata": {},
     "output_type": "execute_result"
    }
   ],
   "source": [
    "fits.getheader(data_p+'lensing/planes/snap11_potentialPlane0_normal0.fits')"
   ]
  },
  {
   "cell_type": "code",
   "execution_count": 4,
   "metadata": {},
   "outputs": [],
   "source": [
    "from lenstools.simulations import Gadget2SnapshotDE\n",
    "from lenstools.simulations import gadget2\n",
    "from astropy.units import Mbyte,kpc,Mpc,cm,km,g,s,hour,day,deg,arcmin,rad,Msun,quantity,def_unit\n"
   ]
  },
  {
   "cell_type": "code",
   "execution_count": 5,
   "metadata": {},
   "outputs": [],
   "source": [
    "g_path='/media/chris/3b7ae93c-9459-4858-9b27-3209d1805b9a/draft_data/Metric_recon/cone_test_256/gadget/'"
   ]
  },
  {
   "cell_type": "code",
   "execution_count": 6,
   "metadata": {},
   "outputs": [],
   "source": [
    "gs = Gadget2SnapshotDE(open(g_path+'cone_test_256_z0p000'),\\\n",
    "                      length_unit = 1*Mpc)"
   ]
  },
  {
   "cell_type": "code",
   "execution_count": 7,
   "metadata": {},
   "outputs": [
    {
     "name": "stderr",
     "output_type": "stream",
     "text": [
      "/home/chris/anaconda3/lib/python3.7/site-packages/astropy/units/quantity.py:481: RuntimeWarning: divide by zero encountered in true_divide\n",
      "  result = super().__array_ufunc__(function, method, *arrays, **kwargs)\n",
      "/home/chris/anaconda3/lib/python3.7/site-packages/astropy/units/quantity.py:481: RuntimeWarning: invalid value encountered in multiply\n",
      "  result = super().__array_ufunc__(function, method, *arrays, **kwargs)\n"
     ]
    },
    {
     "data": {
      "text/plain": [
       "(array([[nan, nan, nan, nan, nan, nan, nan, nan],\n",
       "        [nan, nan, nan, nan, nan, nan, nan, nan],\n",
       "        [nan, nan, nan, nan, nan, nan, nan, nan],\n",
       "        [nan, nan, nan, nan, nan, nan, nan, nan],\n",
       "        [nan, nan, nan, nan, nan, nan, nan, nan],\n",
       "        [nan, nan, nan, nan, nan, nan, nan, nan],\n",
       "        [nan, nan, nan, nan, nan, nan, nan, nan],\n",
       "        [nan, nan, nan, nan, nan, nan, nan, nan]], dtype=float32),\n",
       " [<Quantity 0.00029089 rad>, <Quantity 0.00029089 rad>],\n",
       " 0.0)"
      ]
     },
     "execution_count": 7,
     "metadata": {},
     "output_type": "execute_result"
    }
   ],
   "source": [
    "gs.cutPlaneAngular(thickness=1*Mpc, center = 100 * Mpc, left_corner = (0,0,0))"
   ]
  },
  {
   "cell_type": "code",
   "execution_count": null,
   "metadata": {},
   "outputs": [],
   "source": []
  },
  {
   "cell_type": "code",
   "execution_count": null,
   "metadata": {},
   "outputs": [],
   "source": []
  },
  {
   "cell_type": "code",
   "execution_count": 17,
   "metadata": {},
   "outputs": [
    {
     "data": {
      "text/plain": [
       "H0 : 69.0 km / (Mpc s)\n",
       "Ode0 : 0.69\n",
       "Om0 : 0.31\n",
       "box_size : 0.512 Mpc/h\n",
       "comoving_distance : 0.0 Mpc/h\n",
       "endianness : 0\n",
       "files : ['/media/chris/3b7ae93c-9459-4858-9b27-3209d1805b9a/draft_data/Metric_recon/cone_test_256/gadget/cone_test_256_z0p000']\n",
       "flag_cooling : 0\n",
       "flag_entropy_instead_u : 0\n",
       "flag_feedback : 0\n",
       "flag_metals : 0\n",
       "flag_sfr : 0\n",
       "flag_stellarage : 0\n",
       "h : 0.69\n",
       "masses : [0.00000000e+00 9.97570923e+11 0.00000000e+00 0.00000000e+00\n",
       " 0.00000000e+00 0.00000000e+00] solMass\n",
       "npartTotalHighWord : [0 0 0 0 0 0]\n",
       "num_files : 1\n",
       "num_particles_file : 16777216\n",
       "num_particles_file_gas : 0\n",
       "num_particles_file_of_type : [       0 16777216        0        0        0        0]\n",
       "num_particles_file_with_mass : 0\n",
       "num_particles_total : 16777216\n",
       "num_particles_total_gas : 0\n",
       "num_particles_total_of_type : [       0 16777216        0        0        0        0]\n",
       "num_particles_total_side : 256\n",
       "num_particles_total_with_mass : 0\n",
       "redshift : 0.0\n",
       "scale_factor : 1.0\n",
       "w0 : 0.0\n",
       "wa : 0.0"
      ]
     },
     "execution_count": 17,
     "metadata": {},
     "output_type": "execute_result"
    }
   ],
   "source": [
    "gs.header"
   ]
  },
  {
   "cell_type": "code",
   "execution_count": null,
   "metadata": {},
   "outputs": [],
   "source": []
  },
  {
   "cell_type": "code",
   "execution_count": null,
   "metadata": {},
   "outputs": [],
   "source": []
  },
  {
   "cell_type": "code",
   "execution_count": null,
   "metadata": {},
   "outputs": [],
   "source": []
  },
  {
   "cell_type": "code",
   "execution_count": null,
   "metadata": {},
   "outputs": [],
   "source": []
  },
  {
   "cell_type": "code",
   "execution_count": null,
   "metadata": {},
   "outputs": [],
   "source": []
  },
  {
   "cell_type": "code",
   "execution_count": 4,
   "metadata": {},
   "outputs": [],
   "source": [
    "from lenstools.pipeline.simulation import SimulationBatch\n",
    "from lenstools.pipeline.settings import EnvironmentSettings"
   ]
  },
  {
   "cell_type": "code",
   "execution_count": 5,
   "metadata": {},
   "outputs": [],
   "source": [
    "environment = EnvironmentSettings(home=\"/home/chris/Documents/l-picola/LensTools/Home\",storage=\"/home/chris/Documents/l-picola/LensTools/Storage\")"
   ]
  },
  {
   "cell_type": "code",
   "execution_count": 6,
   "metadata": {},
   "outputs": [],
   "source": [
    "batch = SimulationBatch(environment)"
   ]
  },
  {
   "cell_type": "code",
   "execution_count": 7,
   "metadata": {},
   "outputs": [],
   "source": [
    "from lenstools.pipeline.simulation import LensToolsCosmology\n",
    "cosmology = LensToolsCosmology(Om0=0.31,Ode0=0.69)"
   ]
  },
  {
   "cell_type": "code",
   "execution_count": 8,
   "metadata": {},
   "outputs": [
    {
     "name": "stdout",
     "output_type": "stream",
     "text": [
      "[-] Model Om0.310_Ol0.690 already exists!\n",
      "[-] Model Om0.310_Ol0.690 already exists!\n"
     ]
    }
   ],
   "source": [
    "model = batch.newModel(cosmology,parameters=[\"Om\",\"Ol\"])"
   ]
  },
  {
   "cell_type": "code",
   "execution_count": 9,
   "metadata": {},
   "outputs": [
    {
     "name": "stdout",
     "output_type": "stream",
     "text": [
      "[-] Collection Om0.310_Ol0.690/256b512 already exists!\n"
     ]
    }
   ],
   "source": [
    "collection = model.newCollection(box_size=512.0*model.Mpc_over_h,nside=256)"
   ]
  },
  {
   "cell_type": "code",
   "execution_count": 10,
   "metadata": {},
   "outputs": [],
   "source": [
    "from lenstools.pipeline.settings import PlaneSettings\n"
   ]
  },
  {
   "cell_type": "code",
   "execution_count": 11,
   "metadata": {},
   "outputs": [],
   "source": [
    "#for s in [1]:\n",
    "#        collection.newRealization(seed=s)"
   ]
  },
  {
   "cell_type": "code",
   "execution_count": 12,
   "metadata": {},
   "outputs": [],
   "source": [
    "plane_settings = PlaneSettings.read(\"/home/chris/Documents/l-picola/LensTools/lenstools/data/planes.ini\")"
   ]
  },
  {
   "cell_type": "code",
   "execution_count": 13,
   "metadata": {},
   "outputs": [],
   "source": [
    "#for r in collection.realizations:\n",
    "#        r.newPlaneSet(plane_settings)"
   ]
  },
  {
   "cell_type": "code",
   "execution_count": 14,
   "metadata": {},
   "outputs": [
    {
     "name": "stdout",
     "output_type": "stream",
     "text": [
      "[<Om=0.310 , Ol=0.690>  |  box=512.0 Mpc/h,nside=256  |  ic=7,seed=1  | Plane set: Planes , Plane files on disk: 0]\n"
     ]
    }
   ],
   "source": [
    "for r in collection.realizations:\n",
    "        print(r.planesets)"
   ]
  },
  {
   "cell_type": "code",
   "execution_count": 17,
   "metadata": {},
   "outputs": [
    {
     "name": "stdout",
     "output_type": "stream",
     "text": [
      "[+] /home/chris/Documents/l-picola/LensTools/Home/Om0.310_Ol0.690/256b512/Maps created on localhost\n",
      "[+] /home/chris/Documents/l-picola/LensTools/Storage/Om0.310_Ol0.690/256b512/Maps created on localhost\n"
     ]
    }
   ],
   "source": [
    "#from lenstools.pipeline.settings import MapSettings\n",
    "#map_settings = MapSettings.read(\"/home/chris/Documents/l-picola/LensTools/lenstools/data/lens_default.ini\")\n",
    "#map_set = collection.newMapSet(map_settings)"
   ]
  },
  {
   "cell_type": "code",
   "execution_count": 18,
   "metadata": {},
   "outputs": [
    {
     "data": {
      "text/plain": [
       "[<Om=0.310 , Ol=0.690> | box=512.0 Mpc/h,nside=256 | Map set: Maps | Map files on disk: 0 ]"
      ]
     },
     "execution_count": 18,
     "metadata": {},
     "output_type": "execute_result"
    }
   ],
   "source": [
    "collection.mapsets"
   ]
  },
  {
   "cell_type": "code",
   "execution_count": 21,
   "metadata": {},
   "outputs": [],
   "source": [
    "from lenstools.pipeline.settings import Gadget2Settings\n",
    "gadget_settings = Gadget2Settings()"
   ]
  },
  {
   "cell_type": "code",
   "execution_count": 27,
   "metadata": {},
   "outputs": [
    {
     "ename": "SyntaxError",
     "evalue": "invalid syntax (<ipython-input-27-77422e16847b>, line 1)",
     "output_type": "error",
     "traceback": [
      "\u001b[0;36m  File \u001b[0;32m\"<ipython-input-27-77422e16847b>\"\u001b[0;36m, line \u001b[0;32m1\u001b[0m\n\u001b[0;31m    lenstools.submission -e  '/home/chris/Documents/l-picola/LensTools/Home/environment.ini'\u001b[0m\n\u001b[0m                                                                                           ^\u001b[0m\n\u001b[0;31mSyntaxError\u001b[0m\u001b[0;31m:\u001b[0m invalid syntax\n"
     ]
    }
   ],
   "source": [
    "lenstools.submission -e  \\\n",
    "'/home/chris/Documents/l-picola/LensTools/Home/environment.ini' \\\n",
    "-o planes.ini -j job.ini -t planes '/home/chris/Documents/l-picola/LensTools/Home/realizations.txt'"
   ]
  },
  {
   "cell_type": "code",
   "execution_count": null,
   "metadata": {},
   "outputs": [],
   "source": []
  },
  {
   "cell_type": "code",
   "execution_count": null,
   "metadata": {},
   "outputs": [],
   "source": []
  },
  {
   "cell_type": "code",
   "execution_count": null,
   "metadata": {},
   "outputs": [],
   "source": []
  },
  {
   "cell_type": "code",
   "execution_count": null,
   "metadata": {},
   "outputs": [],
   "source": []
  }
 ],
 "metadata": {
  "kernelspec": {
   "display_name": "Python 3",
   "language": "python",
   "name": "python3"
  },
  "language_info": {
   "codemirror_mode": {
    "name": "ipython",
    "version": 3
   },
   "file_extension": ".py",
   "mimetype": "text/x-python",
   "name": "python",
   "nbconvert_exporter": "python",
   "pygments_lexer": "ipython3",
   "version": "3.7.6"
  }
 },
 "nbformat": 4,
 "nbformat_minor": 4
}
