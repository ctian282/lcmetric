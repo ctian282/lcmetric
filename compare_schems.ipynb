{
 "cells": [
  {
   "cell_type": "code",
   "execution_count": 1,
   "metadata": {},
   "outputs": [],
   "source": [
    "import nbodykit as nkit\n",
    "import numpy as npy\n",
    "from nbodykit.source.catalog import CSVCatalog\n",
    "from nbodykit.source.catalog import ArrayCatalog\n",
    "from matplotlib import pyplot\n",
    "import healpy as hp\n",
    "import pmesh\n",
    "import time\n",
    "import sys;\n",
    "import scipy\n",
    "from importlib import reload \n",
    "import scipy as scpy\n",
    "sys.path.append(\"/home/chris/Dropbox/Document/Metric reconstruction/\")\n",
    "import lcmetric\n",
    "import lcmetric.metric\n",
    "import lcmetric.utils as ut\n",
    "import lcmetric.cgeodesic as geo\n",
    "import lcmetric.clightcone_CIC as lc_CIC\n"
   ]
  },
  {
   "cell_type": "code",
   "execution_count": 2,
   "metadata": {},
   "outputs": [],
   "source": [
    "f_path ='/media/chris/3b7ae93c-9459-4858-9b27-3209d1805b9a/draft_data/Metric_recon/'\n",
    "\n",
    "cone_dtype = npy.double # Data type for light-cone\n",
    "NR = 430 # Radial resolution. NOTE: the actual size of any light-cone mesh field is NR+2 \n",
    "NSIDE = 80 #Healpix nside\n",
    "NPIX = 12 * NSIDE * NSIDE #Number of pixels\n",
    "\n",
    "# In Mpc, to convert from Mpc h^-1, multiply cosmo_paras['h'] / L_unit\n",
    "# H_0 is cosmo_paras['h'] * 100 with L_unit = 3e5\n",
    "L_unit = 3e5 \n",
    "\n",
    "N_snap = 256 #snapshot mesh resolution\n",
    "N_samples = 256 #snapshot number of particles\n",
    "\n",
    "origin = npy.array([0, 0, 0.0], dtype=cone_dtype) #light-cone origin\n",
    "# Setting initial cosmic parameters\n",
    "cosmo_paras={'h':0.69, 'Omega_m':0.31, 'Omega_L':0.69}\n",
    "init_zel_z = 9 #Redshift where n-body simulation starts\n",
    "init_z = 0.5\n",
    "init_a = 1/(1+init_z)\n",
    "final_z = 0.03\n",
    "final_a = 1/(1+final_z)\n",
    "\n",
    "# 1/H(z)\n",
    "def Hint(z, cosmo_paras):\n",
    "    return 1/(cosmo_paras['h']*100*npy.sqrt(cosmo_paras['Omega_m']*(1+z)**3 + cosmo_paras['Omega_L']))\n",
    "\n",
    "# H(z)\n",
    "def H(z, cosmo_paras):\n",
    "    return (cosmo_paras['h']*100/(1+z)*npy.sqrt(cosmo_paras['Omega_m']*(1+z)**3 + cosmo_paras['Omega_L']))\n",
    "\n",
    "# integrate 1/H(z) - r, to inversely solve z for given r\n",
    "def inverse_Hint(z, r, cosmo_paras):\n",
    "    return npy.abs(scpy.integrate.quad(Hint, 0, z,args=(cosmo_paras))[0] - r)\n",
    "\n",
    "# Initial comoving distance\n",
    "init_r = scpy.integrate.quad(Hint, 0, init_z,args=(cosmo_paras))[0]\n",
    "\n",
    "# Final comoving distance\n",
    "final_r = scpy.integrate.quad(Hint, 0, final_z,args=(cosmo_paras))[0]\n",
    "\n",
    "# Initial Hubble\n",
    "Hi = H(init_z, cosmo_paras)\n",
    "\n",
    "#Final Hubble\n",
    "Hf = H(final_z, cosmo_paras)\n",
    "H0 = cosmo_paras['h'] * 100\n",
    "L_snap = 512 / cosmo_paras['h'] / L_unit\n",
    "# Locating radial distance for radial mesh n\n",
    "def to_r(n,nr = NR):\n",
    "    return n / nr * (init_r - final_r) + final_r\n",
    "def to_tau(n,nr = NR):\n",
    "    return n / nr * (init_r - final_r) + final_r"
   ]
  },
  {
   "cell_type": "code",
   "execution_count": 39,
   "metadata": {},
   "outputs": [],
   "source": [
    "def pots_from_lightcone(f_path, N_snap, NR):\n",
    "    f = CSVCatalog(f_path+'cone_test_'+str(N_snap)+'/cone_test_'+str(N_snap)+'_lightcone.*', \\\n",
    "               ['x','y','z','vx','vy','vz','phi'],dtype='f8')\n",
    "    f['Particles'] = (f['x'][:, None]) * npy.array([1/cosmo_paras['h']/L_unit, 0, 0, 0, 0, 0] , dtype = cone_dtype)\\\n",
    "    + (f['y'][:, None]) * npy.array([0, 1/cosmo_paras['h']/L_unit, 0, 0, 0, 0], dtype = cone_dtype) \\\n",
    "    + (f['z'][:, None]) * npy.array([0, 0, 1/cosmo_paras['h']/L_unit, 0, 0, 0], dtype = cone_dtype)\\\n",
    "    + (f['phi'][:, None]) * npy.array([0, 0, 0, 1, 0, 0], dtype = cone_dtype) \\\n",
    "    + (f['vy'][:, None]) * npy.array([0, 0, 0, 0, 1/3e5, 0], dtype = cone_dtype) \\\n",
    "    + (f['vz'][:, None]) * npy.array([0, 0, 0, 0, 0, 1/3e5], dtype = cone_dtype) \n",
    "\n",
    "    f.attrs['BoxSize'] = L_snap \n",
    "    f['Particles']=f['Particles'].rechunk(20000000)\n",
    "    # Creating healpy coordinate list in cartesian coordinate\n",
    "    theta_list, phi_list = hp.pix2ang(NSIDE, range(12*NSIDE**2))\n",
    "    x_list = npy.array([ \\\n",
    "                         init_r * npy.sin(theta_list) * npy.cos(phi_list) + origin[0],        \\\n",
    "                         init_r * npy.sin(theta_list) * npy.sin(phi_list) + origin[1],        \\\n",
    "                         init_r * npy.cos(theta_list) + origin[2]                             \\\n",
    "    ])\n",
    "    x_list = npy.ascontiguousarray(npy.transpose(x_list))\n",
    "\n",
    "    xf_list = npy.array([ \\\n",
    "                         final_r * npy.sin(theta_list) * npy.cos(phi_list) + origin[0],        \\\n",
    "                         final_r * npy.sin(theta_list) * npy.sin(phi_list) + origin[1],        \\\n",
    "                         final_r * npy.cos(theta_list) + origin[2]                             \\\n",
    "    ])\n",
    "    xf_list = npy.ascontiguousarray(npy.transpose(xf_list))\n",
    "    \n",
    "    delta = npy.zeros((NR+2,NPIX),dtype= cone_dtype)\n",
    "    delta.fill(-1)\n",
    "    phi_cone = npy.zeros((NR+2, NPIX),dtype= cone_dtype)\n",
    "    counts = npy.zeros((NR+2, NPIX),dtype= cone_dtype)\n",
    "    count_density = 1 / (L_snap / N_snap)**3 / (N_snap / 256)**3\n",
    "    max_r = init_r\n",
    "    min_r = final_r\n",
    "    \n",
    "    for d in f['Particles'].partitions:\n",
    "        pdata = d.compute()\n",
    "        lc_CIC.deposit(pdata, origin, delta, count_density, phi_cone, counts,max_r, min_r, NR, NSIDE,1)\n",
    "        \n",
    "        \n",
    "    phi_cone /= counts\n",
    "    phi_cone=npy.nan_to_num(phi_cone)\n",
    "    \n",
    "    for step in range(NR+1):\n",
    "        z = scpy.optimize.minimize_scalar(inverse_Hint, args=(to_tau(step),cosmo_paras)).x\n",
    "        phi_cone[step] *=  (1.5 * (cosmo_paras['h']*100)**2 * cosmo_paras['Omega_m']*(1+z) )\n",
    "        \n",
    "    phi_cone *= (init_r/(2*npy.pi))**2 / npy.sqrt(2*npy.pi)\n",
    "    \n",
    "    phi_cone = phi_cone[0:NR+1,:]\n",
    "    Pi = npy.zeros((NR+1, NPIX) )\n",
    "    Omega = ut.np_fderv1(phi_cone, -(init_r-final_r) / NR, 0)\n",
    "    dPi_dr = npy.zeros((NR+1, NPIX) )\n",
    "    return (phi_cone, Pi, Omega, dPi_dr)"
   ]
  },
  {
   "cell_type": "code",
   "execution_count": 40,
   "metadata": {},
   "outputs": [],
   "source": [
    "def pots_from_lightcone_file(f_path, N_snap, NR):\n",
    "    import pickle\n",
    "    with open(f_path+'Phi_430_80_lc.dat', 'rb') as f:\n",
    "        phi_cone = pickle.load(f)\n",
    "    f.close()\n",
    "    \n",
    "    \n",
    "    phi_cone = phi_cone[0:NR+1,:]\n",
    "    Pi = npy.zeros((NR+1, NPIX) )\n",
    "    Omega = ut.np_fderv1(phi_cone, -(init_r-final_r) / NR, 0)\n",
    "    dPi_dr = npy.zeros((NR+1, NPIX) )\n",
    "    return (phi_cone, Pi, Omega, dPi_dr)"
   ]
  },
  {
   "cell_type": "code",
   "execution_count": 41,
   "metadata": {},
   "outputs": [],
   "source": [
    "def pots_from_mg(f_path, N_snap, NR):\n",
    "    import pickle\n",
    "    with open(f_path+'Phi_430_80.dat', 'rb') as f:\n",
    "        Phi_430_80 = pickle.load(f)\n",
    "    f.close()\n",
    "    with open(f_path+'Pi_430_80.dat', 'rb') as f:\n",
    "        Pi_430_80 = pickle.load(f)\n",
    "    f.close()\n",
    "    with open(f_path+'Hubble_430_80.dat', 'rb') as f:\n",
    "        Hubble = pickle.load(f)\n",
    "    f.close()\n",
    "    with open(f_path+'Hubble_dt_430_80.dat', 'rb') as f:\n",
    "        Hubble_dt = pickle.load(f)\n",
    "    f.close()\n",
    "    \n",
    "    \n",
    "    Omega = ut.np_fderv1(Phi_430_80, -(init_r-final_r) / NR, 0)\n",
    "    Omega_dot = ut.np_fderv2(Phi_430_80, -(init_r-final_r) / NR, 0)\n",
    "    Pi_dot = ut.np_fderv1(Pi_430_80, -(init_r-final_r) / NR, 0)\n",
    "    dPi_dr = -2 * Pi_dot - Omega_dot - 3 * Hubble[:,None] * \\\n",
    "                (Omega + Pi_430_80) \\\n",
    "                - (2 * Hubble_dt[:,None] + Hubble[:,None]**2) * Phi_430_80\n",
    "    return (Phi_430_80, Pi_430_80, Omega, dPi_dr)"
   ]
  },
  {
   "cell_type": "code",
   "execution_count": 55,
   "metadata": {},
   "outputs": [],
   "source": [
    "def to_r(n,nr = NR, c = 1.0):\n",
    "    return n / nr * (init_r * c - final_r) + final_r\n",
    "def gen_z_list(NR):\n",
    "    r_list = npy.array([to_r(n,NR) for n in range(NR)])\n",
    "    z_list = npy.array(\n",
    "    [scpy.optimize.minimize_scalar(inverse_Hint, args=(to_r(n,NR, 1.06),cosmo_paras)).x for n in range(NR+1)])\n",
    "    for z in range(len(z_list)-1,-1,-1):\n",
    "        print(str('{:.9}'.format(z_list[z]))+', 1')\n",
    "    return z_list"
   ]
  },
  {
   "cell_type": "code",
   "execution_count": 56,
   "metadata": {
    "collapsed": true,
    "jupyter": {
     "outputs_hidden": true
    }
   },
   "outputs": [
    {
     "name": "stdout",
     "output_type": "stream",
     "text": [
      "0.53511365, 1\n",
      "0.525969064, 1\n",
      "0.516874746, 1\n",
      "0.507830086, 1\n",
      "0.49883451, 1\n",
      "0.489887426, 1\n",
      "0.480988252, 1\n",
      "0.472136431, 1\n",
      "0.463331381, 1\n",
      "0.454572556, 1\n",
      "0.445859392, 1\n",
      "0.437191361, 1\n",
      "0.428567914, 1\n",
      "0.419988518, 1\n",
      "0.411452652, 1\n",
      "0.402959784, 1\n",
      "0.3945094, 1\n",
      "0.386100991, 1\n",
      "0.377734055, 1\n",
      "0.369408095, 1\n",
      "0.361122614, 1\n",
      "0.352877119, 1\n",
      "0.344671132, 1\n",
      "0.336504177, 1\n",
      "0.328375772, 1\n",
      "0.320285465, 1\n",
      "0.312232776, 1\n",
      "0.304217264, 1\n",
      "0.296238462, 1\n",
      "0.288295938, 1\n",
      "0.280389231, 1\n",
      "0.272517912, 1\n",
      "0.264681549, 1\n",
      "0.256879708, 1\n",
      "0.249111966, 1\n",
      "0.241377903, 1\n",
      "0.233677106, 1\n",
      "0.226009161, 1\n",
      "0.218373658, 1\n",
      "0.210770199, 1\n",
      "0.203198384, 1\n",
      "0.195657817, 1\n",
      "0.188148109, 1\n",
      "0.180668872, 1\n",
      "0.173219725, 1\n",
      "0.165800289, 1\n",
      "0.15841019, 1\n",
      "0.151049057, 1\n",
      "0.143716521, 1\n",
      "0.136412222, 1\n",
      "0.129135799, 1\n",
      "0.121886897, 1\n",
      "0.114665162, 1\n",
      "0.107470245, 1\n",
      "0.100301805, 1\n",
      "0.0931594963, 1\n",
      "0.086042982, 1\n",
      "0.0789519282, 1\n",
      "0.0718860017, 1\n",
      "0.0648448766, 1\n",
      "0.0578282265, 1\n",
      "0.0508357308, 1\n",
      "0.0438670704, 1\n",
      "0.0369219307, 1\n",
      "0.0300000001, 1\n"
     ]
    },
    {
     "data": {
      "text/plain": [
       "array([0.03      , 0.03692193, 0.04386707, 0.05083573, 0.05782823,\n",
       "       0.06484488, 0.071886  , 0.07895193, 0.08604298, 0.0931595 ,\n",
       "       0.10030181, 0.10747025, 0.11466516, 0.1218869 , 0.1291358 ,\n",
       "       0.13641222, 0.14371652, 0.15104906, 0.15841019, 0.16580029,\n",
       "       0.17321972, 0.18066887, 0.18814811, 0.19565782, 0.20319838,\n",
       "       0.2107702 , 0.21837366, 0.22600916, 0.23367711, 0.2413779 ,\n",
       "       0.24911197, 0.25687971, 0.26468155, 0.27251791, 0.28038923,\n",
       "       0.28829594, 0.29623846, 0.30421726, 0.31223278, 0.32028546,\n",
       "       0.32837577, 0.33650418, 0.34467113, 0.35287712, 0.36112261,\n",
       "       0.36940809, 0.37773405, 0.38610099, 0.3945094 , 0.40295978,\n",
       "       0.41145265, 0.41998852, 0.42856791, 0.43719136, 0.44585939,\n",
       "       0.45457256, 0.46333138, 0.47213643, 0.48098825, 0.48988743,\n",
       "       0.49883451, 0.50783009, 0.51687475, 0.52596906, 0.53511365])"
      ]
     },
     "execution_count": 56,
     "metadata": {},
     "output_type": "execute_result"
    }
   ],
   "source": [
    "gen_z_list(64)"
   ]
  },
  {
   "cell_type": "code",
   "execution_count": 7,
   "metadata": {},
   "outputs": [
    {
     "data": {
      "text/plain": [
       "('/media/chris/3b7ae93c-9459-4858-9b27-3209d1805b9a/draft_data/Metric_recon/cone_test_256/snaps/gadget/cone_test_256_z0p0.*',)"
      ]
     },
     "execution_count": 7,
     "metadata": {},
     "output_type": "execute_result"
    }
   ],
   "source": [
    " f_path+'cone_test_'+str(N_snap)+'/snaps/gadget'+'/'+'cone_test_'+str(N_snap)+'_z0p0'+'.*',"
   ]
  },
  {
   "cell_type": "code",
   "execution_count": null,
   "metadata": {},
   "outputs": [],
   "source": [
    "columndefs=[ ('Position', ('auto', 3), 'all',),('GadgetVelocity',  ('auto', 3), 'all', ),('ID', 'auto', 'all', ),]"
   ]
  },
  {
   "cell_type": "code",
   "execution_count": 23,
   "metadata": {},
   "outputs": [],
   "source": [
    "f=nkit.source.catalog.Gadget1Catalog(\n",
    "            f_path+'cone_test_'+str(N_snap)+'/snaps/gadget'+'/'+'cone_test_'+str(N_snap)+'_z0p03'+'*',\n",
    "    columndefs=[ ('Position', ('auto', 3), 'all',),\n",
    "        ('GadgetVelocity',  ('auto', 3), 'all', ),('ID', 'auto', 'all', ),])"
   ]
  },
  {
   "cell_type": "code",
   "execution_count": 14,
   "metadata": {},
   "outputs": [
    {
     "data": {
      "text/plain": [
       "'/media/chris/3b7ae93c-9459-4858-9b27-3209d1805b9a/draft_data/Metric_recon/cone_test_256/snaps/gadget/cone_test_256_z0p0.*'"
      ]
     },
     "execution_count": 14,
     "metadata": {},
     "output_type": "execute_result"
    }
   ],
   "source": [
    "f_path+'cone_test_'+str(N_snap)+'/snaps/gadget'+'/'+'cone_test_'+str(N_snap)+'_z0p0'+'.*'"
   ]
  },
  {
   "cell_type": "code",
   "execution_count": 18,
   "metadata": {},
   "outputs": [
    {
     "data": {
      "text/plain": [
       "['/media/chris/3b7ae93c-9459-4858-9b27-3209d1805b9a/draft_data/Metric_recon/cone_test_256/snaps/gadget/cone_test_256_z0p000.0',\n",
       " '/media/chris/3b7ae93c-9459-4858-9b27-3209d1805b9a/draft_data/Metric_recon/cone_test_256/snaps/gadget/cone_test_256_z0p000.1',\n",
       " '/media/chris/3b7ae93c-9459-4858-9b27-3209d1805b9a/draft_data/Metric_recon/cone_test_256/snaps/gadget/cone_test_256_z0p000.2',\n",
       " '/media/chris/3b7ae93c-9459-4858-9b27-3209d1805b9a/draft_data/Metric_recon/cone_test_256/snaps/gadget/cone_test_256_z0p000.3']"
      ]
     },
     "execution_count": 18,
     "metadata": {},
     "output_type": "execute_result"
    }
   ],
   "source": [
    "import glob\n",
    "glob.glob(f_path+'cone_test_'+str(N_snap)+'/snaps/gadget'+'/'+'cone_test_'+str(N_snap)+'_z0p00*')"
   ]
  },
  {
   "cell_type": "code",
   "execution_count": 28,
   "metadata": {},
   "outputs": [
    {
     "data": {
      "text/html": [
       "<table>\n",
       "<tr>\n",
       "<td>\n",
       "<table>\n",
       "  <thead>\n",
       "    <tr><td> </td><th> Array </th><th> Chunk </th></tr>\n",
       "  </thead>\n",
       "  <tbody>\n",
       "    <tr><th> Bytes </th><td> 603.98 MB </td> <td> 1.20 MB </td></tr>\n",
       "    <tr><th> Shape </th><td> (50331648, 3) </td> <td> (100000, 3) </td></tr>\n",
       "    <tr><th> Count </th><td> 505 Tasks </td><td> 504 Chunks </td></tr>\n",
       "    <tr><th> Type </th><td> float32 </td><td> numpy.ndarray </td></tr>\n",
       "  </tbody>\n",
       "</table>\n",
       "</td>\n",
       "<td>\n",
       "<svg width=\"75\" height=\"170\" style=\"stroke:rgb(0,0,0);stroke-width:1\" >\n",
       "\n",
       "  <!-- Horizontal lines -->\n",
       "  <line x1=\"0\" y1=\"0\" x2=\"25\" y2=\"0\" style=\"stroke-width:2\" />\n",
       "  <line x1=\"0\" y1=\"6\" x2=\"25\" y2=\"6\" />\n",
       "  <line x1=\"0\" y1=\"12\" x2=\"25\" y2=\"12\" />\n",
       "  <line x1=\"0\" y1=\"18\" x2=\"25\" y2=\"18\" />\n",
       "  <line x1=\"0\" y1=\"25\" x2=\"25\" y2=\"25\" />\n",
       "  <line x1=\"0\" y1=\"31\" x2=\"25\" y2=\"31\" />\n",
       "  <line x1=\"0\" y1=\"37\" x2=\"25\" y2=\"37\" />\n",
       "  <line x1=\"0\" y1=\"44\" x2=\"25\" y2=\"44\" />\n",
       "  <line x1=\"0\" y1=\"50\" x2=\"25\" y2=\"50\" />\n",
       "  <line x1=\"0\" y1=\"56\" x2=\"25\" y2=\"56\" />\n",
       "  <line x1=\"0\" y1=\"63\" x2=\"25\" y2=\"63\" />\n",
       "  <line x1=\"0\" y1=\"69\" x2=\"25\" y2=\"69\" />\n",
       "  <line x1=\"0\" y1=\"75\" x2=\"25\" y2=\"75\" />\n",
       "  <line x1=\"0\" y1=\"82\" x2=\"25\" y2=\"82\" />\n",
       "  <line x1=\"0\" y1=\"88\" x2=\"25\" y2=\"88\" />\n",
       "  <line x1=\"0\" y1=\"94\" x2=\"25\" y2=\"94\" />\n",
       "  <line x1=\"0\" y1=\"101\" x2=\"25\" y2=\"101\" />\n",
       "  <line x1=\"0\" y1=\"107\" x2=\"25\" y2=\"107\" />\n",
       "  <line x1=\"0\" y1=\"113\" x2=\"25\" y2=\"113\" />\n",
       "  <line x1=\"0\" y1=\"120\" x2=\"25\" y2=\"120\" style=\"stroke-width:2\" />\n",
       "\n",
       "  <!-- Vertical lines -->\n",
       "  <line x1=\"0\" y1=\"0\" x2=\"0\" y2=\"120\" style=\"stroke-width:2\" />\n",
       "  <line x1=\"25\" y1=\"0\" x2=\"25\" y2=\"120\" style=\"stroke-width:2\" />\n",
       "\n",
       "  <!-- Colored Rectangle -->\n",
       "  <polygon points=\"0.0,0.0 25.412616514582485,0.0 25.412616514582485,120.0 0.0,120.0\" style=\"fill:#8B4903A0;stroke-width:0\"/>\n",
       "\n",
       "  <!-- Text -->\n",
       "  <text x=\"12.706308\" y=\"140.000000\" font-size=\"1.0rem\" font-weight=\"100\" text-anchor=\"middle\" >3</text>\n",
       "  <text x=\"45.412617\" y=\"60.000000\" font-size=\"1.0rem\" font-weight=\"100\" text-anchor=\"middle\" transform=\"rotate(-90,45.412617,60.000000)\">50331648</text>\n",
       "</svg>\n",
       "</td>\n",
       "</tr>\n",
       "</table>"
      ],
      "text/plain": [
       "dask.array<array, shape=(50331648, 3), dtype=float32, chunksize=(100000, 3), chunktype=numpy.ndarray>"
      ]
     },
     "execution_count": 28,
     "metadata": {},
     "output_type": "execute_result"
    }
   ],
   "source": [
    "f['Position']"
   ]
  },
  {
   "cell_type": "code",
   "execution_count": 97,
   "metadata": {},
   "outputs": [],
   "source": [
    "def pots_from_snaps(f_path, N_snap, NR):\n",
    "    z_list = gen_z_list(NR)\n",
    "    theta_list, phi_list = hp.pix2ang(NSIDE, range(12*NSIDE**2))\n",
    "    snap_list = [None] * (NR+1)\n",
    "    for zi in range(len(z_list)):\n",
    "        z3 = format(int(npy.round(z_list[zi]*1000)), '03d')\n",
    "        f=nkit.source.catalog.Gadget1Catalog(\n",
    "            f_path+'cone_test_'+str(N_snap)+'/snaps/gadget'+'/'+'cone_test_'+str(N_snap)+'_z0p'+z3+'.*',\n",
    "        columndefs=[ ('Position', ('auto', 3), 'all',),\n",
    "        ('GadgetVelocity',  ('auto', 3), 'all', ),('ID', 'auto', 'all', ),])\n",
    "        f['Position'] *= 1/cosmo_paras['h']/L_unit\n",
    "        f.attrs['BoxSize'] = L_snap\n",
    "        rf = (f.to_mesh(N_snap).to_real_field(normalize=False) * ( N_snap**3 / f['Position'].shape[0] )  - 1.0 ) \n",
    "\n",
    "        rf *= (1.5 * (cosmo_paras['h']*100)**2 * cosmo_paras['Omega_m']*(1+int(zi)/1000) )\n",
    "            #z_list[zi] = rf.copy()\n",
    "            #z_list[zi].value = ut.inverse_Lap(rf,L_snap,N_snap)\n",
    "        snap = ut.inverse_Lap(rf,L_snap,N_snap)\n",
    "        snap_list[zi] = \\\n",
    "        ut.interp(snap, rf.BoxSize/rf.Nmesh, npy.array([ [\\\n",
    "                scpy.integrate.quad(Hint, 0, z_list[zi],args=(cosmo_paras))[0] * npy.sin(theta_list[i]) * npy.cos(phi_list[i]) + origin[0],\\\n",
    "                scpy.integrate.quad(Hint, 0, z_list[zi],args=(cosmo_paras))[0] * npy.sin(theta_list[i]) * npy.sin(phi_list[i]) + origin[1],\\\n",
    "                scpy.integrate.quad(Hint, 0, z_list[zi],args=(cosmo_paras))[0] * npy.cos(theta_list[i]) + origin[2] ]  \\\n",
    "             for i in range(NPIX)]))\n",
    "    return npy.array(snap_list)"
   ]
  },
  {
   "cell_type": "code",
   "execution_count": 8,
   "metadata": {},
   "outputs": [],
   "source": [
    "temp=pots_from_snaps(f_path, N_snap, 32)"
   ]
  },
  {
   "cell_type": "code",
   "execution_count": 98,
   "metadata": {},
   "outputs": [],
   "source": [
    "temp=pots_from_snaps(f_path, N_snap, 64)"
   ]
  },
  {
   "cell_type": "code",
   "execution_count": 31,
   "metadata": {},
   "outputs": [
    {
     "data": {
      "text/plain": [
       "<function __main__.inverse_Hint(z, r, cosmo_paras)>"
      ]
     },
     "execution_count": 31,
     "metadata": {},
     "output_type": "execute_result"
    }
   ],
   "source": [
    "inverse_Hint"
   ]
  },
  {
   "cell_type": "code",
   "execution_count": 33,
   "metadata": {},
   "outputs": [
    {
     "ename": "NameError",
     "evalue": "name 'n' is not defined",
     "output_type": "error",
     "traceback": [
      "\u001b[0;31m---------------------------------------------------------------------------\u001b[0m",
      "\u001b[0;31mNameError\u001b[0m                                 Traceback (most recent call last)",
      "\u001b[0;32m<ipython-input-33-15de58546d27>\u001b[0m in \u001b[0;36m<module>\u001b[0;34m\u001b[0m\n\u001b[0;32m----> 1\u001b[0;31m \u001b[0;36m1\u001b[0m\u001b[0;34m/\u001b[0m\u001b[0;34m(\u001b[0m\u001b[0;36m1\u001b[0m\u001b[0;34m+\u001b[0m\u001b[0mscpy\u001b[0m\u001b[0;34m.\u001b[0m\u001b[0moptimize\u001b[0m\u001b[0;34m.\u001b[0m\u001b[0mminimize_scalar\u001b[0m\u001b[0;34m(\u001b[0m\u001b[0minverse_Hint\u001b[0m\u001b[0;34m,\u001b[0m \u001b[0margs\u001b[0m\u001b[0;34m=\u001b[0m\u001b[0;34m(\u001b[0m\u001b[0mto_tau\u001b[0m\u001b[0;34m(\u001b[0m\u001b[0mn\u001b[0m\u001b[0;34m,\u001b[0m \u001b[0mnr\u001b[0m\u001b[0;34m)\u001b[0m\u001b[0;34m,\u001b[0m\u001b[0mcosmo_paras\u001b[0m\u001b[0;34m)\u001b[0m\u001b[0;34m)\u001b[0m\u001b[0;34m)\u001b[0m\u001b[0;34m\u001b[0m\u001b[0;34m\u001b[0m\u001b[0m\n\u001b[0m",
      "\u001b[0;31mNameError\u001b[0m: name 'n' is not defined"
     ]
    }
   ],
   "source": [
    "1/(1+scpy.optimize.minimize_scalar(inverse_Hint, args=(to_tau(n, 430),cosmo_paras)))"
   ]
  },
  {
   "cell_type": "code",
   "execution_count": 99,
   "metadata": {},
   "outputs": [],
   "source": [
    "\n",
    "Phi_snap_1 = npy.array(temp)\n",
    "nr = Phi_snap_1.shape[0]-1\n",
    "Pi_snap_1 = npy.zeros((nr+1, NPIX) )\n",
    "Omega_snap_1 = ut.np_fderv1(Phi_snap_1, -(init_r-final_r) / nr, 0)\n",
    "Pi_dr_snap_1 = npy.zeros((nr+1, NPIX) )\n",
    "\n",
    "a1 =npy.array([1/(1+scpy.optimize.minimize_scalar(inverse_Hint, args=(to_tau(n, nr),cosmo_paras)).x) \\\n",
    "    for n in range(nr+1) ]    )\n",
    "\n",
    "Phi_snap_2 = npy.array(temp[0::2])\n",
    "nr = Phi_snap_2.shape[0]-1\n",
    "Pi_snap_2 = npy.zeros((nr+1, NPIX) )\n",
    "Omega_snap_2 = ut.np_fderv1(Phi_snap_2, -(init_r-final_r) / nr, 0)\n",
    "Pi_dr_snap_2 = npy.zeros((nr+1, NPIX) )\n",
    "\n",
    "a2 =npy.array([1/(1+scpy.optimize.minimize_scalar(inverse_Hint, args=(to_tau(n, nr),cosmo_paras)).x) \\\n",
    "    for n in range(nr+1) ]    )\n",
    "\n",
    "Phi_snap_3 = npy.array(temp[0::4])\n",
    "nr = Phi_snap_3.shape[0]-1\n",
    "Pi_snap_3 = npy.zeros((nr+1, NPIX) )\n",
    "Omega_snap_3 = ut.np_fderv1(Phi_snap_3, -(init_r-final_r) / nr, 0)\n",
    "Pi_dr_snap_3 = npy.zeros((nr+1, NPIX) )\n",
    "\n",
    "a3 =npy.array([1/(1+scpy.optimize.minimize_scalar(inverse_Hint, args=(to_tau(n, nr),cosmo_paras)).x) \\\n",
    "    for n in range(nr+1) ]    )\n",
    "\n",
    "Phi_snap_4 = npy.array(temp[0::8])\n",
    "nr = Phi_snap_4.shape[0]-1\n",
    "Pi_snap_4 = npy.zeros((nr+1, NPIX) )\n",
    "Omega_snap_4 = ut.np_fderv1(Phi_snap_4, -(init_r-final_r) / nr, 0)\n",
    "Pi_dr_snap_4 = npy.zeros((nr+1, NPIX) )\n",
    "\n",
    "a4 =npy.array([1/(1+scpy.optimize.minimize_scalar(inverse_Hint, args=(to_tau(n, nr),cosmo_paras)).x) \\\n",
    "    for n in range(nr+1) ]    )"
   ]
  },
  {
   "cell_type": "code",
   "execution_count": 10,
   "metadata": {},
   "outputs": [],
   "source": [
    "Phi_cone, Pi_cone, Omega_cone, dPi_dr_cone = pots_from_lightcone_file(f_path, N_snap, NR)"
   ]
  },
  {
   "cell_type": "code",
   "execution_count": 8,
   "metadata": {},
   "outputs": [],
   "source": [
    "Phi_mg, Pi_mg, Omega_mg, dPi_dr_mg = pots_from_mg(f_path, N_snap, NR)"
   ]
  },
  {
   "cell_type": "code",
   "execution_count": 9,
   "metadata": {},
   "outputs": [],
   "source": [
    "a=npy.array([1/(1+scpy.optimize.minimize_scalar(inverse_Hint, args=(to_tau(n),cosmo_paras)).x) \\\n",
    "    for n in range(NR+1) ]    )"
   ]
  },
  {
   "cell_type": "code",
   "execution_count": 47,
   "metadata": {},
   "outputs": [],
   "source": [
    "import pickle\n",
    "with open(f_path+'Phi_430_80_lc.dat', 'wb') as f:\n",
    "    pickle.dump(Phi_cone, f)\n",
    "f.close()"
   ]
  },
  {
   "cell_type": "code",
   "execution_count": null,
   "metadata": {},
   "outputs": [],
   "source": []
  },
  {
   "cell_type": "code",
   "execution_count": 70,
   "metadata": {},
   "outputs": [
    {
     "data": {
      "text/plain": [
       "0.0039911765772256"
      ]
     },
     "execution_count": 70,
     "metadata": {},
     "output_type": "execute_result"
    }
   ],
   "source": [
    "to_r(425)"
   ]
  },
  {
   "cell_type": "code",
   "execution_count": 10,
   "metadata": {},
   "outputs": [
    {
     "ename": "NameError",
     "evalue": "name 'Phi_cone' is not defined",
     "output_type": "error",
     "traceback": [
      "\u001b[0;31m---------------------------------------------------------------------------\u001b[0m",
      "\u001b[0;31mNameError\u001b[0m                                 Traceback (most recent call last)",
      "\u001b[0;32m<ipython-input-10-ee4172701bce>\u001b[0m in \u001b[0;36m<module>\u001b[0;34m\u001b[0m\n\u001b[0;32m----> 1\u001b[0;31m \u001b[0mg_cone\u001b[0m\u001b[0;34m=\u001b[0m\u001b[0mgeo\u001b[0m\u001b[0;34m.\u001b[0m\u001b[0mGeodesic\u001b[0m\u001b[0;34m(\u001b[0m\u001b[0mPhi_cone\u001b[0m\u001b[0;34m,\u001b[0m\u001b[0mPi_cone\u001b[0m\u001b[0;34m,\u001b[0m \u001b[0mOmega_cone\u001b[0m\u001b[0;34m,\u001b[0m \u001b[0mdPi_dr_cone\u001b[0m\u001b[0;34m,\u001b[0m \u001b[0ma\u001b[0m\u001b[0;34m,\u001b[0m \u001b[0mNR\u001b[0m\u001b[0;34m,\u001b[0m \u001b[0minit_r\u001b[0m\u001b[0;34m,\u001b[0m \u001b[0mfinal_r\u001b[0m\u001b[0;34m,\u001b[0m \u001b[0mNSIDE\u001b[0m\u001b[0;34m,\u001b[0m \u001b[0mang_epsilon\u001b[0m \u001b[0;34m=\u001b[0m \u001b[0;36m1e-7\u001b[0m\u001b[0;34m)\u001b[0m\u001b[0;34m\u001b[0m\u001b[0;34m\u001b[0m\u001b[0m\n\u001b[0m\u001b[1;32m      2\u001b[0m \u001b[0mg_cone\u001b[0m\u001b[0;34m.\u001b[0m\u001b[0minit_with_healpix_tars\u001b[0m\u001b[0;34m(\u001b[0m\u001b[0;36m0.004\u001b[0m\u001b[0;34m)\u001b[0m\u001b[0;34m\u001b[0m\u001b[0;34m\u001b[0m\u001b[0m\n",
      "\u001b[0;31mNameError\u001b[0m: name 'Phi_cone' is not defined"
     ]
    }
   ],
   "source": [
    "g_cone=geo.Geodesic(Phi_cone,Pi_cone, Omega_cone, dPi_dr_cone, a, NR, init_r, final_r, NSIDE, ang_epsilon = 1e-7)\n",
    "g_cone.init_with_healpix_tars(0.004)"
   ]
  },
  {
   "cell_type": "code",
   "execution_count": 16,
   "metadata": {},
   "outputs": [
    {
     "name": "stdout",
     "output_type": "stream",
     "text": [
      "CPU times: user 2h 22min 29s, sys: 4min 44s, total: 2h 27min 13s\n",
      "Wall time: 13min 12s\n"
     ]
    }
   ],
   "source": [
    "%%time\n",
    "g_cone.shoot()"
   ]
  },
  {
   "cell_type": "code",
   "execution_count": 10,
   "metadata": {},
   "outputs": [],
   "source": [
    "g_mg=geo.Geodesic(Phi_mg,Pi_mg, Omega_mg, dPi_dr_mg, a, NR, init_r, final_r, NSIDE, ang_epsilon = 1e-7)\n",
    "g_mg.init_with_healpix_tars(0.004)"
   ]
  },
  {
   "cell_type": "code",
   "execution_count": 11,
   "metadata": {},
   "outputs": [
    {
     "name": "stdout",
     "output_type": "stream",
     "text": [
      "CPU times: user 57min 35s, sys: 1min 46s, total: 59min 21s\n",
      "Wall time: 5min 4s\n"
     ]
    }
   ],
   "source": [
    "%%time\n",
    "g_mg.shoot()"
   ]
  },
  {
   "cell_type": "code",
   "execution_count": 76,
   "metadata": {},
   "outputs": [
    {
     "data": {
      "text/plain": [
       "0.012791583849331106"
      ]
     },
     "execution_count": 76,
     "metadata": {},
     "output_type": "execute_result"
    }
   ],
   "source": [
    "hp.nside2resol(80)"
   ]
  },
  {
   "cell_type": "code",
   "execution_count": 77,
   "metadata": {},
   "outputs": [
    {
     "data": {
      "text/plain": [
       "0.00016362461737446838"
      ]
     },
     "execution_count": 77,
     "metadata": {},
     "output_type": "execute_result"
    }
   ],
   "source": [
    "4*npy.pi / (12*80**2)"
   ]
  },
  {
   "cell_type": "code",
   "execution_count": 110,
   "metadata": {},
   "outputs": [
    {
     "name": "stderr",
     "output_type": "stream",
     "text": [
      "/home/chris/anaconda3/lib/python3.7/site-packages/healpy/sphtfunc.py:824: UserWarning: Sigma is 0.000000 arcmin (0.000000 rad) \n",
      "  sigma * 60 * 180 / np.pi, sigma\n",
      "/home/chris/anaconda3/lib/python3.7/site-packages/healpy/sphtfunc.py:829: UserWarning: -> fwhm is 0.000000 arcmin\n",
      "  sigma * 60 * 180 / np.pi * (2.0 * np.sqrt(2.0 * np.log(2.0)))\n"
     ]
    }
   ],
   "source": [
    "g_cone_b=geo.Geodesic(Phi_cone,Pi_cone, Omega_cone, dPi_dr_cone, a, NR, \\\n",
    "                      init_r, final_r, NSIDE, ang_epsilon = 1e-7,ray_tracing=False)\n",
    "k_cone_b=g_cone_b.gen_lensing_conv(0.004)"
   ]
  },
  {
   "cell_type": "code",
   "execution_count": 111,
   "metadata": {},
   "outputs": [],
   "source": [
    "g_mg_b=geo.Geodesic(Phi_mg,Pi_mg, Omega_mg, dPi_dr_mg, a, NR, \\\n",
    "                      init_r, final_r, NSIDE, ang_epsilon = 1e-7,ray_tracing=False)\n",
    "k_mg_b=g_mg_b.gen_lensing_conv(0.004)"
   ]
  },
  {
   "cell_type": "code",
   "execution_count": 100,
   "metadata": {},
   "outputs": [
    {
     "name": "stderr",
     "output_type": "stream",
     "text": [
      "/home/chris/anaconda3/lib/python3.7/site-packages/healpy/sphtfunc.py:824: UserWarning: Sigma is 0.000000 arcmin (0.000000 rad) \n",
      "  sigma * 60 * 180 / np.pi, sigma\n",
      "/home/chris/anaconda3/lib/python3.7/site-packages/healpy/sphtfunc.py:829: UserWarning: -> fwhm is 0.000000 arcmin\n",
      "  sigma * 60 * 180 / np.pi * (2.0 * np.sqrt(2.0 * np.log(2.0)))\n"
     ]
    }
   ],
   "source": [
    "g_snap_4=geo.Geodesic(Phi_snap_4,Pi_snap_4, Omega_snap_4, Pi_dr_snap_4, a4, Phi_snap_4.shape[0]-1, \\\n",
    "                      init_r, final_r, NSIDE, ang_epsilon = 1e-7,ray_tracing=False)\n",
    "k4=g_snap_4.gen_lensing_conv(0.004)"
   ]
  },
  {
   "cell_type": "code",
   "execution_count": 104,
   "metadata": {},
   "outputs": [
    {
     "name": "stderr",
     "output_type": "stream",
     "text": [
      "/home/chris/anaconda3/lib/python3.7/site-packages/healpy/sphtfunc.py:824: UserWarning: Sigma is 0.000000 arcmin (0.000000 rad) \n",
      "  sigma * 60 * 180 / np.pi, sigma\n",
      "/home/chris/anaconda3/lib/python3.7/site-packages/healpy/sphtfunc.py:829: UserWarning: -> fwhm is 0.000000 arcmin\n",
      "  sigma * 60 * 180 / np.pi * (2.0 * np.sqrt(2.0 * np.log(2.0)))\n"
     ]
    }
   ],
   "source": [
    "g_snap_3=geo.Geodesic(Phi_snap_3,Pi_snap_3, Omega_snap_3, Pi_dr_snap_3, a3, Phi_snap_3.shape[0]-1, \\\n",
    "                      init_r, final_r, NSIDE, ang_epsilon = 1e-7,ray_tracing=False)\n",
    "k3=g_snap_3.gen_lensing_conv(0.004)"
   ]
  },
  {
   "cell_type": "code",
   "execution_count": 105,
   "metadata": {},
   "outputs": [],
   "source": [
    "g_snap_2=geo.Geodesic(Phi_snap_2,Pi_snap_2, Omega_snap_2, Pi_dr_snap_2, a2, Phi_snap_2.shape[0]-1, \\\n",
    "                      init_r, final_r, NSIDE, ang_epsilon = 1e-7,ray_tracing=False)\n",
    "k2=g_snap_2.gen_lensing_conv(0.004)"
   ]
  },
  {
   "cell_type": "code",
   "execution_count": 106,
   "metadata": {},
   "outputs": [],
   "source": [
    "g_snap_1=geo.Geodesic(Phi_snap_1,Pi_snap_1, Omega_snap_1, Pi_dr_snap_1, a1, Phi_snap_1.shape[0]-1, \\\n",
    "                      init_r, final_r, NSIDE, ang_epsilon = 1e-7, ray_tracing=False)\n",
    "k1=g_snap_1.gen_lensing_conv(0.004)"
   ]
  },
  {
   "cell_type": "code",
   "execution_count": 15,
   "metadata": {},
   "outputs": [],
   "source": [
    "import pickle\n",
    "with open(f_path+'kappa_mg_004', 'wb') as f:\n",
    "    pickle.dump(-(g_mg.DA()-0.004)/0.004, f)\n",
    "f.close()"
   ]
  },
  {
   "cell_type": "code",
   "execution_count": 122,
   "metadata": {},
   "outputs": [
    {
     "data": {
      "image/png": "[encoded data removed]",
      "text/plain": [
       "<Figure size 432x288 with 1 Axes>"
      ]
     },
     "metadata": {
      "needs_background": "light"
     },
     "output_type": "display_data"
    }
   ],
   "source": [
    "pyplot.plot(hp.sphtfunc.anafast(-(g_cone.DA()-0.004)/0.004))\n",
    "pyplot.plot(hp.sphtfunc.anafast(-(g_mg.DA()-0.004)/0.004))\n",
    "pyplot.plot(hp.sphtfunc.anafast(k_cone_b))\n",
    "\n",
    "pyplot.plot(hp.sphtfunc.anafast(k_mg_b))\n",
    "\n",
    "pyplot.xlim(1,150)\n",
    "pyplot.ylim(1e-11,1e-7)\n",
    "pyplot.legend(['Directly deposit LC, ray-tracing','Mutigrid-LC, ray-tracing','Directly deposit LC, Born',\n",
    "               'Mutigrid-LC, Born'\n",
    "              ])\n",
    "pyplot.yscale('log')"
   ]
  },
  {
   "cell_type": "code",
   "execution_count": 120,
   "metadata": {},
   "outputs": [
    {
     "data": {
      "text/plain": [
       "0.009661534199087066"
      ]
     },
     "execution_count": 120,
     "metadata": {},
     "output_type": "execute_result"
    }
   ],
   "source": [
    "k1.max()"
   ]
  },
  {
   "cell_type": "code",
   "execution_count": 123,
   "metadata": {},
   "outputs": [
    {
     "data": {
      "image/png": "[encoded data removed]",
      "text/plain": [
       "<Figure size 432x288 with 1 Axes>"
      ]
     },
     "metadata": {
      "needs_background": "light"
     },
     "output_type": "display_data"
    }
   ],
   "source": [
    "pyplot.plot(hp.sphtfunc.anafast(-(g_cone.DA()-0.004)/0.004))\n",
    "pyplot.plot(hp.sphtfunc.anafast(-(g_mg.DA()-0.004)/0.004))\n",
    "pyplot.plot(hp.sphtfunc.anafast(k4))\n",
    "\n",
    "pyplot.plot(hp.sphtfunc.anafast(k3))\n",
    "pyplot.plot(hp.sphtfunc.anafast(k2))\n",
    "\n",
    "\n",
    "pyplot.plot(hp.sphtfunc.anafast(k1))\n",
    "pyplot.legend(['Directly deposit LC, ray-tracing','Mutigrid-LC, ray-tracing',\n",
    "              '8 snapshots, Born','16 snapshots, Born','32 snapshots, Born','64 snapshots, Born'])\n",
    "pyplot.xlim(1,150)\n",
    "pyplot.ylim(1e-11,1e-7)\n",
    "pyplot.yscale('log')"
   ]
  },
  {
   "cell_type": "code",
   "execution_count": 176,
   "metadata": {},
   "outputs": [
    {
     "data": {
      "image/png": "[encoded data removed]",
      "text/plain": [
       "<Figure size 432x288 with 1 Axes>"
      ]
     },
     "metadata": {
      "needs_background": "light"
     },
     "output_type": "display_data"
    }
   ],
   "source": [
    "\n",
    "pyplot.plot(hp.sphtfunc.anafast(Phi_cone[400]))\n",
    "pyplot.plot(hp.sphtfunc.anafast(Phi_mg[400]))\n",
    "\n",
    "\n",
    "\n",
    "pyplot.xlim(1,150)\n",
    "\n",
    "pyplot.yscale('log')"
   ]
  },
  {
   "cell_type": "code",
   "execution_count": null,
   "metadata": {},
   "outputs": [],
   "source": []
  }
 ],
 "metadata": {
  "kernelspec": {
   "display_name": "Python 3",
   "language": "python",
   "name": "python3"
  },
  "language_info": {
   "codemirror_mode": {
    "name": "ipython",
    "version": 3
   },
   "file_extension": ".py",
   "mimetype": "text/x-python",
   "name": "python",
   "nbconvert_exporter": "python",
   "pygments_lexer": "ipython3",
   "version": "3.7.9"
  }
 },
 "nbformat": 4,
 "nbformat_minor": 4
}
