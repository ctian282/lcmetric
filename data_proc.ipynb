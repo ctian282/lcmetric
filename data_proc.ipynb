{
 "cells": [
  {
   "cell_type": "code",
   "execution_count": 7,
   "id": "considered-dover",
   "metadata": {},
   "outputs": [],
   "source": [
    "import nbodykit as nkit\n",
    "import numpy as npy\n",
    "from nbodykit.source.catalog import CSVCatalog\n",
    "from nbodykit.source.catalog import ArrayCatalog\n",
    "from matplotlib import pyplot\n",
    "import healpy as hp\n",
    "import pmesh\n",
    "import time\n",
    "import sys;\n",
    "import dill as dl\n",
    "import pickle as pl\n",
    "from importlib import reload \n",
    "import scipy as scpy\n",
    "sys.path.append(\"/home/chris/Dropbox/Document/Metric reconstruction/\")\n"
   ]
  },
  {
   "cell_type": "code",
   "execution_count": 2,
   "id": "vocal-niger",
   "metadata": {},
   "outputs": [],
   "source": [
    "import lcmetric\n",
    "import lcmetric.lightcone as lc\n",
    "import lcmetric.utils as ut\n",
    "import lcmetric.cgeodesic as geo\n",
    "import lcmetric.lensing as lensing\n",
    "import lcmetric.clcdensity as dens"
   ]
  },
  {
   "cell_type": "code",
   "execution_count": 4,
   "id": "steady-riverside",
   "metadata": {},
   "outputs": [],
   "source": [
    "path = \"/media/chris/3b7ae93c-9459-4858-9b27-3209d1805b9a/\\\n",
    "draft_data/Metric_recon/ris_data/conv/\""
   ]
  },
  {
   "cell_type": "code",
   "execution_count": 15,
   "id": "smoking-specific",
   "metadata": {},
   "outputs": [],
   "source": [
    "with open(path+'Phi_256_0.dat', 'rb') as f:\n",
    "    Phi = pl.load(f)\n",
    "f.close() "
   ]
  },
  {
   "cell_type": "code",
   "execution_count": 12,
   "id": "julian-leader",
   "metadata": {},
   "outputs": [
    {
     "ename": "TypeError",
     "evalue": "'FFTPower' object is not subscriptable",
     "output_type": "error",
     "traceback": [
      "\u001b[0;31m---------------------------------------------------------------------------\u001b[0m",
      "\u001b[0;31mTypeError\u001b[0m                                 Traceback (most recent call last)",
      "\u001b[0;32m<ipython-input-12-42abe0d5db70>\u001b[0m in \u001b[0;36m<module>\u001b[0;34m\u001b[0m\n\u001b[0;32m----> 1\u001b[0;31m \u001b[0mpyplot\u001b[0m\u001b[0;34m.\u001b[0m\u001b[0mplot\u001b[0m\u001b[0;34m(\u001b[0m\u001b[0mcl_256\u001b[0m\u001b[0;34m[\u001b[0m\u001b[0;36m0\u001b[0m\u001b[0;34m]\u001b[0m\u001b[0;34m[\u001b[0m\u001b[0;34m'k'\u001b[0m\u001b[0;34m]\u001b[0m\u001b[0;34m,\u001b[0m\u001b[0mnpy\u001b[0m\u001b[0;34m.\u001b[0m\u001b[0mabs\u001b[0m\u001b[0;34m(\u001b[0m\u001b[0mcl_256\u001b[0m\u001b[0;34m[\u001b[0m\u001b[0;36m0\u001b[0m\u001b[0;34m]\u001b[0m\u001b[0;34m[\u001b[0m\u001b[0;34m'power'\u001b[0m\u001b[0;34m]\u001b[0m\u001b[0;34m)\u001b[0m\u001b[0;34m)\u001b[0m\u001b[0;34m\u001b[0m\u001b[0;34m\u001b[0m\u001b[0m\n\u001b[0m",
      "\u001b[0;31mTypeError\u001b[0m: 'FFTPower' object is not subscriptable"
     ]
    }
   ],
   "source": [
    "pyplot.plot(cl_256[0]['k'],npy.abs(cl_256[0]['power']))\n"
   ]
  },
  {
   "cell_type": "code",
   "execution_count": null,
   "id": "infectious-exemption",
   "metadata": {},
   "outputs": [],
   "source": []
  }
 ],
 "metadata": {
  "kernelspec": {
   "display_name": "Python 3",
   "language": "python",
   "name": "python3"
  },
  "language_info": {
   "codemirror_mode": {
    "name": "ipython",
    "version": 3
   },
   "file_extension": ".py",
   "mimetype": "text/x-python",
   "name": "python",
   "nbconvert_exporter": "python",
   "pygments_lexer": "ipython3",
   "version": "3.7.9"
  }
 },
 "nbformat": 4,
 "nbformat_minor": 5
}
